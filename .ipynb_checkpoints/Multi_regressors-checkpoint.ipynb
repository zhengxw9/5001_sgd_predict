{
 "cells": [
  {
   "cell_type": "markdown",
   "metadata": {},
   "source": [
    "# Multi-model method\n",
    "This file is used to test the performance of using multiple regressor for prediction"
   ]
  },
  {
   "cell_type": "code",
   "execution_count": null,
   "metadata": {
    "collapsed": true
   },
   "outputs": [],
   "source": [
    "import pandas as pd\n",
    "import numpy as np\n",
    "import matplotlib.pyplot as plt\n",
    "import math\n",
    "import seaborn as sns\n",
    "from sklearn.preprocessing import StandardScaler \n",
    "from sklearn.model_selection import train_test_split\n",
    "from sklearn.neural_network import MLPRegressor\n",
    "from sklearn.svm import SVR\n",
    "from sklearn.ensemble import AdaBoostRegressor\n",
    "from sklearn.model_selection import cross_val_score\n",
    "from sklearn.metrics import mean_squared_error\n",
    "from sklearn.model_selection import GridSearchCV\n",
    "import utils\n",
    "import customModel\n",
    "\n",
    "%matplotlib inline"
   ]
  },
  {
   "cell_type": "markdown",
   "metadata": {},
   "source": [
    "## 1.1 Use external data as new features\n",
    "Though the data is run on a powerful machine and the result must be different from the result produced on ordinary machines. But initially I guess that at least the reproduce result can provide the model with a time range. And there may be some relationship between different number of cpus. So external data include the results from cpu12 and cpu8. "
   ]
  },
  {
   "cell_type": "code",
   "execution_count": null,
   "metadata": {
    "collapsed": false,
    "scrolled": false
   },
   "outputs": [],
   "source": [
    "#get the prerocess result of trainning data and testing data\n",
    "train_f,test_f = utils.get_train_test_df()"
   ]
  },
  {
   "cell_type": "code",
   "execution_count": null,
   "metadata": {
    "collapsed": true
   },
   "outputs": [],
   "source": [
    "attrs_used = [x for x in test_f.columns if x != 'id' and x != 'time']\n",
    "X = train_f[attrs_used].values\n",
    "y = train_f['time'].values\n",
    "X_test = test_f[attrs_used].values\n",
    "\n",
    "scaler = StandardScaler() \n",
    "scaler.fit(X)  \n",
    "X = scaler.transform(X)  \n",
    "X_test = scaler.transform(X_test) "
   ]
  },
  {
   "cell_type": "code",
   "execution_count": null,
   "metadata": {
    "collapsed": true
   },
   "outputs": [],
   "source": [
    "ada_para = {'learning_rate': 0.01, 'loss': 'square', 'n_estimators': 200}\n",
    "svr_para = {'C': 10, 'epsilon': 1, 'gamma': 'auto', 'kernel': 'rbf'}\n",
    "mlp_para = {'activation': 'relu', 'alpha': 0.0001, 'batch_size': 5, 'hidden_layer_sizes': (200, 100, 100, 100, 100, 100),\n",
    "            'learning_rate': 'invscaling', 'max_iter': 1000, 'solver': 'lbfgs'}\n",
    "ada_model = AdaBoostRegressor(**ada_para)\n",
    "svr_model = SVR(**svr_para)\n",
    "mlp_model = MLPRegressor(**mlp_para)\n",
    "models_used = [ada_model,svr_model,mlp_model]\n",
    "combined_model = customModel.EnsembleModel(models_used)"
   ]
  },
  {
   "cell_type": "markdown",
   "metadata": {},
   "source": [
    "### 1.1.1 Using all trainning data to train the models\n",
    "The best score on public board is 1.14744<br>\n",
    "<b>Note</b> that the performance is random as the random_state for eacch model is not fix, the result may be different for each run"
   ]
  },
  {
   "cell_type": "code",
   "execution_count": 6,
   "metadata": {
    "collapsed": true
   },
   "outputs": [],
   "source": [
    "combined_model.fit_all(X,y)\n",
    "y_pred = combined_model.predict(X_test)\n",
    "result_df = pd.DataFrame({'id':test_f['id'].values,'time':y_pred})\n",
    "result_df.to_csv('result_11_7_8.csv',index=False)"
   ]
  },
  {
   "cell_type": "markdown",
   "metadata": {},
   "source": [
    "### 1.1.2 Using part of training data \n",
    "The best score on public board is 0.93595<br>\n",
    "<b>Note</b> that the performance is random as the random_state for eacch model is not fix, the result may be different for each run"
   ]
  },
  {
   "cell_type": "code",
   "execution_count": 9,
   "metadata": {
    "collapsed": true
   },
   "outputs": [],
   "source": [
    "attrs_used = [x for x in test_f.columns if x != 'id' and x != 'time']\n",
    "\n",
    "X1 = train_f[attrs_used].values\n",
    "y1 = train_f['time'].values\n",
    "X_test1 = test_f[attrs_used].values\n",
    "\n",
    "\n",
    "X_train, X_val, y_train, y_val = train_test_split(\n",
    "    X1, y1, test_size=0.25, random_state=13)\n",
    "\n",
    "scaler = StandardScaler() \n",
    "scaler.fit(X_train)  \n",
    "X_train = scaler.transform(X_train)  \n",
    "X_val = scaler.transform(X_val) \n",
    "X_test1 = scaler.transform(X_test1)"
   ]
  },
  {
   "cell_type": "code",
   "execution_count": 10,
   "metadata": {
    "collapsed": true
   },
   "outputs": [],
   "source": [
    "combined_model.fit(X_train,y_train,X_val,y_val)\n",
    "y_pred1 = combined_model.predict(X_test1)\n",
    "result_df = pd.DataFrame({'id':test_f['id'].values,'time':y_pred1})\n",
    "result_df.to_csv('result_11_7_9.csv',index=False)"
   ]
  },
  {
   "cell_type": "code",
   "execution_count": null,
   "metadata": {
    "collapsed": true
   },
   "outputs": [],
   "source": []
  },
  {
   "cell_type": "markdown",
   "metadata": {},
   "source": [
    "## 2 Using small part of the predicted result as training data\n",
    "It seems that the distribution of some important features like max_iter,n_classes,n_features,n_jobs is quite different \n",
    "in trainning set and testing set. This section try to use small part of predicted result as training set to see whether it will improve the remainning test result."
   ]
  },
  {
   "cell_type": "markdown",
   "metadata": {},
   "source": [
    "### 2.1 Distribution of data in training set and testing set"
   ]
  },
  {
   "cell_type": "code",
   "execution_count": 23,
   "metadata": {
    "collapsed": false
   },
   "outputs": [
    {
     "data": {
      "text/plain": [
       "Index(['alpha', 'flip_y', 'id', 'l1_ratio', 'max_iter', 'n_classes',\n",
       "       'n_clusters_per_class', 'n_features', 'n_informative', 'n_jobs',\n",
       "       'n_samples', 'random_state', 'scale', 'time', 'train', 'penalty_0',\n",
       "       'penalty_1', 'penalty_2', 'penalty_3', 'gen12_all0median',\n",
       "       'gen12_all0min', 'gen12_all0max', 'gen12_all1median', 'gen12_all1min',\n",
       "       'gen12_all1max', 'gen12_mcmedian', 'gen12_mcmin', 'gen12_mcmax',\n",
       "       'gen8_allmedian', 'gen8_allmin', 'gen8_allmax'],\n",
       "      dtype='object')"
      ]
     },
     "execution_count": 23,
     "metadata": {},
     "output_type": "execute_result"
    }
   ],
   "source": [
    "train_f.columns"
   ]
  },
  {
   "cell_type": "code",
   "execution_count": 27,
   "metadata": {
    "collapsed": true
   },
   "outputs": [],
   "source": [
    "def plot_hist(train_f,test_f,attr):\n",
    "    plt.title(attr+\" histogram\")\n",
    "    test_f[attr].plot.hist(density=1,label='test',alpha=0.5)\n",
    "    train_f[attr].plot.hist(density=1,label='train',alpha=0.5)\n",
    "    plt.xlabel(attr)\n",
    "    plt.legend()"
   ]
  },
  {
   "cell_type": "code",
   "execution_count": 31,
   "metadata": {
    "collapsed": false
   },
   "outputs": [
    {
     "data": {
      "image/png": "[encoded data removed]",
      "text/plain": [
       "<matplotlib.figure.Figure at 0x7f464d8786d8>"
      ]
     },
     "metadata": {},
     "output_type": "display_data"
    }
   ],
   "source": [
    "plt.figure(figsize=(16,16))\n",
    "plt.subplot(2,2,1)\n",
    "plot_hist(train_f,test_f,'max_iter')\n",
    "plt.subplot(2,2,2)\n",
    "plot_hist(train_f,test_f,'n_jobs')\n",
    "plt.subplot(2,2,3)\n",
    "plot_hist(train_f,test_f,'n_classes')\n",
    "plt.subplot(2,2,4)\n",
    "plot_hist(train_f,test_f,'n_features')\n",
    "plt.show()"
   ]
  },
  {
   "cell_type": "markdown",
   "metadata": {},
   "source": [
    "<b>Difference summary</b>: Training set has more data points that has more features a more classes while n_jobs are larger. The distribution is quite different.For some models like the MLP model, the training data is important to \"produce\" a rule for testing data to follow."
   ]
  },
  {
   "cell_type": "markdown",
   "metadata": {},
   "source": [
    "## 2.2 Reuse some predicted result for trainning \n",
    "In this section I conduct some test to see whether reuse the predicted result will make some improvements"
   ]
  },
  {
   "cell_type": "markdown",
   "metadata": {},
   "source": [
    "### 2.2.1 Test the validation score(kaggle public board) on a single model\n",
    "The best score on public board is 0.49719<br>\n",
    "<b>Note</b> that the performance is random as the random_state for eacch model is not fix, the result may be different for each run"
   ]
  },
  {
   "cell_type": "code",
   "execution_count": 55,
   "metadata": {
    "collapsed": false
   },
   "outputs": [
    {
     "data": {
      "text/html": [
       "<div>\n",
       "<style>\n",
       "    .dataframe thead tr:only-child th {\n",
       "        text-align: right;\n",
       "    }\n",
       "\n",
       "    .dataframe thead th {\n",
       "        text-align: left;\n",
       "    }\n",
       "\n",
       "    .dataframe tbody tr th {\n",
       "        vertical-align: top;\n",
       "    }\n",
       "</style>\n",
       "<table border=\"1\" class=\"dataframe\">\n",
       "  <thead>\n",
       "    <tr style=\"text-align: right;\">\n",
       "      <th></th>\n",
       "      <th>n_classes</th>\n",
       "      <th>max_iter</th>\n",
       "      <th>n_features</th>\n",
       "      <th>n_jobs</th>\n",
       "      <th>penalty_1</th>\n",
       "      <th>penalty_2</th>\n",
       "      <th>penalty_3</th>\n",
       "    </tr>\n",
       "  </thead>\n",
       "  <tbody>\n",
       "    <tr>\n",
       "      <th>1</th>\n",
       "      <td>10</td>\n",
       "      <td>522</td>\n",
       "      <td>1528</td>\n",
       "      <td>4</td>\n",
       "      <td>0</td>\n",
       "      <td>1</td>\n",
       "      <td>0</td>\n",
       "    </tr>\n",
       "    <tr>\n",
       "      <th>8</th>\n",
       "      <td>5</td>\n",
       "      <td>958</td>\n",
       "      <td>1433</td>\n",
       "      <td>2</td>\n",
       "      <td>0</td>\n",
       "      <td>1</td>\n",
       "      <td>0</td>\n",
       "    </tr>\n",
       "    <tr>\n",
       "      <th>30</th>\n",
       "      <td>7</td>\n",
       "      <td>527</td>\n",
       "      <td>1765</td>\n",
       "      <td>1</td>\n",
       "      <td>0</td>\n",
       "      <td>1</td>\n",
       "      <td>0</td>\n",
       "    </tr>\n",
       "    <tr>\n",
       "      <th>51</th>\n",
       "      <td>10</td>\n",
       "      <td>824</td>\n",
       "      <td>1413</td>\n",
       "      <td>4</td>\n",
       "      <td>1</td>\n",
       "      <td>0</td>\n",
       "      <td>0</td>\n",
       "    </tr>\n",
       "    <tr>\n",
       "      <th>65</th>\n",
       "      <td>8</td>\n",
       "      <td>434</td>\n",
       "      <td>1993</td>\n",
       "      <td>16</td>\n",
       "      <td>1</td>\n",
       "      <td>0</td>\n",
       "      <td>0</td>\n",
       "    </tr>\n",
       "  </tbody>\n",
       "</table>\n",
       "</div>"
      ],
      "text/plain": [
       "    n_classes  max_iter  n_features  n_jobs  penalty_1  penalty_2  penalty_3\n",
       "1          10       522        1528       4          0          1          0\n",
       "8           5       958        1433       2          0          1          0\n",
       "30          7       527        1765       1          0          1          0\n",
       "51         10       824        1413       4          1          0          0\n",
       "65          8       434        1993      16          1          0          0"
      ]
     },
     "execution_count": 55,
     "metadata": {},
     "output_type": "execute_result"
    }
   ],
   "source": [
    "#select some test data which has different distribution for performance tunning\n",
    "test_id = [1,8,30,51,65]\n",
    "part_df = test_f.loc[test_f.id.isin(test_id)]\n",
    "part_df[['n_classes','max_iter','n_features','n_jobs','penalty_1', 'penalty_2', 'penalty_3']]"
   ]
  },
  {
   "cell_type": "code",
   "execution_count": 49,
   "metadata": {
    "collapsed": false
   },
   "outputs": [
    {
     "name": "stdout",
     "output_type": "stream",
     "text": [
      "(405, 31)\n"
     ]
    }
   ],
   "source": [
    "#use a model to predict the result\n",
    "mlr1 = MLPRegressor(random_state=241,**mlp_para)\n",
    "mlr1.fit(X,y)\n",
    "y_pred1 = mlr1.predict(X_test)\n",
    "\n",
    "pred_part = []\n",
    "for _id in test_id:\n",
    "    pred_part.append(y_pred1[_id])\n",
    "pred_df = pd.DataFrame({'id':test_id,'time':pred_part})\n",
    "test_f = test_f.drop('time',axis=1)\n",
    "val_df = pred_df.join(test_f.set_index('id'), on='id')\n",
    "df_new = pd.concat([train_f,val_df])\n",
    "print(df_new.shape)"
   ]
  },
  {
   "cell_type": "code",
   "execution_count": 50,
   "metadata": {
    "collapsed": true
   },
   "outputs": [],
   "source": [
    "scaler = StandardScaler() \n",
    "\n",
    "X2 = df_new[attrs_used].values\n",
    "y2 = df_new['time'].values\n",
    "X_test2 = test_f[attrs_used].values\n",
    "\n",
    "scaler.fit(X2)\n",
    "X2 = scaler.transform(X2)\n",
    "X_test2 = scaler.transform(X_test2)\n",
    "\n",
    "mlr = MLPRegressor(random_state=7,**mlp_para)\n",
    "mlr.fit(X2,y2)\n",
    "y_pred2 = mlr.predict(X_test2)\n",
    "result_df = pd.DataFrame({'id':test_f['id'].values,'time':y_pred2})\n",
    "result_df.to_csv('result_11_7_10.csv',index=False)"
   ]
  },
  {
   "cell_type": "code",
   "execution_count": null,
   "metadata": {
    "collapsed": true
   },
   "outputs": [],
   "source": []
  },
  {
   "cell_type": "code",
   "execution_count": null,
   "metadata": {
    "collapsed": true
   },
   "outputs": [],
   "source": []
  },
  {
   "cell_type": "code",
   "execution_count": 28,
   "metadata": {
    "collapsed": true
   },
   "outputs": [],
   "source": [
    "ada_para = {'learning_rate': 0.01, 'loss': 'square', 'n_estimators': 200}\n",
    "svr_para = {'C': 10, 'epsilon': 1, 'gamma': 'auto', 'kernel': 'rbf'}\n",
    "mlp_para = {'activation': 'relu', 'alpha': 0.0001, 'batch_size': 5, 'hidden_layer_sizes': (200, 100, 100, 100, 100, 100),\n",
    "            'learning_rate': 'invscaling', 'max_iter': 1000, 'solver': 'lbfgs'}\n",
    "ada_model = AdaBoostRegressor(random_state=17,**ada_para)\n",
    "svr_model = SVR(**svr_para)\n",
    "mlp_model = MLPRegressor(**mlp_para)"
   ]
  },
  {
   "cell_type": "code",
   "execution_count": 29,
   "metadata": {
    "collapsed": true
   },
   "outputs": [],
   "source": [
    "ada_model.fit(X_train,y_train)\n",
    "svr_model.fit(X_train,y_train)\n",
    "mlp_model.fit(X_train,y_train)\n",
    "ada_pred = ada_model.predict(X_val)\n",
    "svr_pred = svr_model.predict(X_val)\n",
    "mlp_pred = mlp_model.predict(X_val)"
   ]
  },
  {
   "cell_type": "code",
   "execution_count": 30,
   "metadata": {
    "collapsed": true
   },
   "outputs": [],
   "source": [
    "pred_df = pd.DataFrame({'ada':ada_pred,'svr':svr_pred,'mlp':mlp_pred})\n",
    "pred_all = pred_df.values"
   ]
  },
  {
   "cell_type": "code",
   "execution_count": 31,
   "metadata": {
    "collapsed": false
   },
   "outputs": [
    {
     "data": {
      "text/plain": [
       "LinearRegression(copy_X=True, fit_intercept=True, n_jobs=None,\n",
       "         normalize=False)"
      ]
     },
     "execution_count": 31,
     "metadata": {},
     "output_type": "execute_result"
    }
   ],
   "source": [
    "from sklearn.linear_model import LinearRegression\n",
    "lr = LinearRegression()\n",
    "lr.fit(pred_all,y_val)"
   ]
  },
  {
   "cell_type": "code",
   "execution_count": 32,
   "metadata": {
    "collapsed": true
   },
   "outputs": [],
   "source": [
    "X_test = test_f[attrs_used].values\n",
    "X_test = scaler.transform(X_test)\n",
    "ada_test = ada_model.predict(X_test)\n",
    "svr_test = svr_model.predict(X_test)\n",
    "mlp_test = mlp_model.predict(X_test)\n",
    "pred_test_df = pd.DataFrame({'ada':ada_test,'svr':svr_test,'mlp':mlp_test})\n",
    "pred_test = pred_test_df.values\n",
    "y_pred = lr.predict(pred_test)\n",
    "result_df = pd.DataFrame({'id':test_f['id'].values,'time':y_pred})\n",
    "result_df.to_csv('result_11_7_6.csv',index=False)"
   ]
  },
  {
   "cell_type": "code",
   "execution_count": null,
   "metadata": {
    "collapsed": true
   },
   "outputs": [],
   "source": []
  }
 ],
 "metadata": {
  "kernelspec": {
   "display_name": "Python 3",
   "language": "python",
   "name": "python3"
  },
  "language_info": {
   "codemirror_mode": {
    "name": "ipython",
    "version": 3
   },
   "file_extension": ".py",
   "mimetype": "text/x-python",
   "name": "python",
   "nbconvert_exporter": "python",
   "pygments_lexer": "ipython3",
   "version": "3.5.5"
  }
 },
 "nbformat": 4,
 "nbformat_minor": 2
}
